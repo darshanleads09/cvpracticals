{
 "cells": [
  {
   "cell_type": "code",
   "execution_count": 12,
   "id": "e4882cba",
   "metadata": {},
   "outputs": [],
   "source": [
    "import cv2\n",
    "import numpy as np\n",
    "import os"
   ]
  },
  {
   "cell_type": "code",
   "execution_count": 13,
   "id": "7760b0dd",
   "metadata": {},
   "outputs": [],
   "source": [
    "# ⚠️ Set these to your local image paths\n",
    "reference_path = \"C:\\\\Users\\\\Darshan\\\\Downloads\\\\Computer Vision\\\\CrossWalkPedestrian.jpg\"\n",
    "query_path = \"C:\\\\Users\\\\Darshan\\\\Downloads\\\\Computer Vision\\\\CrossWalkPedestrianSingle.jpg\""
   ]
  },
  {
   "cell_type": "code",
   "execution_count": 14,
   "id": "f8b0a58c",
   "metadata": {},
   "outputs": [],
   "source": [
    "# Load reference and query images\n",
    "reference_img = cv2.imread(reference_path, cv2.IMREAD_GRAYSCALE)\n",
    "query_img = cv2.imread(query_path, cv2.IMREAD_GRAYSCALE)"
   ]
  },
  {
   "cell_type": "code",
   "execution_count": 15,
   "id": "908420ae",
   "metadata": {},
   "outputs": [],
   "source": [
    "# Validate images\n",
    "if reference_img is None:\n",
    "    print(f\"❌ Could not load reference image from '{reference_path}'\")\n",
    "    exit()"
   ]
  },
  {
   "cell_type": "code",
   "execution_count": 16,
   "id": "2285de7e",
   "metadata": {},
   "outputs": [],
   "source": [
    "if query_img is None:\n",
    "    print(f\"❌ Could not load query image from '{query_path}'\")\n",
    "    exit()"
   ]
  },
  {
   "cell_type": "code",
   "execution_count": 17,
   "id": "420a288d",
   "metadata": {},
   "outputs": [],
   "source": [
    "# Initialize SIFT detector\n",
    "sift = cv2.SIFT_create()"
   ]
  },
  {
   "cell_type": "code",
   "execution_count": 18,
   "id": "c13a16a2",
   "metadata": {},
   "outputs": [],
   "source": [
    "# Detect keypoints and compute descriptors\n",
    "kp1, des1 = sift.detectAndCompute(reference_img, None)\n",
    "kp2, des2 = sift.detectAndCompute(query_img, None)"
   ]
  },
  {
   "cell_type": "code",
   "execution_count": 19,
   "id": "46942edb",
   "metadata": {},
   "outputs": [],
   "source": [
    "# Create BFMatcher and find matches\n",
    "bf = cv2.BFMatcher()\n",
    "matches = bf.knnMatch(des1, des2, k=2)"
   ]
  },
  {
   "cell_type": "code",
   "execution_count": 20,
   "id": "cf8f6fcf",
   "metadata": {},
   "outputs": [],
   "source": [
    "# Apply Lowe's ratio test\n",
    "good_matches = [m for m, n in matches if m.distance < 0.75 * n.distance]"
   ]
  },
  {
   "cell_type": "code",
   "execution_count": 21,
   "id": "c42eb627",
   "metadata": {},
   "outputs": [
    {
     "name": "stdout",
     "output_type": "stream",
     "text": [
      "Number of inliers: 406\n",
      "✅ Person detected!\n"
     ]
    }
   ],
   "source": [
    "# Proceed only if enough good matches are found\n",
    "if len(good_matches) >= 10:\n",
    "    # Extract matched keypoints\n",
    "    src_pts = np.float32([kp1[m.queryIdx].pt for m in good_matches]).reshape(-1, 1, 2)\n",
    "    dst_pts = np.float32([kp2[m.trainIdx].pt for m in good_matches]).reshape(-1, 1, 2)\n",
    "\n",
    "    # Find homography using RANSAC\n",
    "    H, mask = cv2.findHomography(src_pts, dst_pts, cv2.RANSAC, 5.0)\n",
    "\n",
    "    if mask is not None:\n",
    "        inliers = mask.ravel().tolist()\n",
    "        num_inliers = np.sum(inliers)\n",
    "\n",
    "        # Draw inlier matches\n",
    "        inlier_matches = [good_matches[i] for i in range(len(good_matches)) if inliers[i]]\n",
    "        match_img = cv2.drawMatches(reference_img, kp1, query_img, kp2, inlier_matches, None, flags=2)\n",
    "\n",
    "        # Show result\n",
    "        cv2.namedWindow(\"Matched Keypoints\", cv2.WINDOW_NORMAL)\n",
    "        cv2.imshow(\"Matched Keypoints\", match_img)\n",
    "        print(f\"Number of inliers: {num_inliers}\")\n",
    "\n",
    "        if num_inliers > 15:\n",
    "            print(\"✅ Person detected!\")\n",
    "        else:\n",
    "            print(\"❌ No person detected.\")\n",
    "\n",
    "        cv2.waitKey(0)\n",
    "        cv2.destroyAllWindows()\n",
    "    else:\n",
    "        print(\"❌ Homography could not be computed.\")\n",
    "else:\n",
    "    print(\"❌ Not enough good matches found to proceed.\")"
   ]
  },
  {
   "cell_type": "code",
   "execution_count": null,
   "id": "c0b12b4c",
   "metadata": {},
   "outputs": [],
   "source": []
  }
 ],
 "metadata": {
  "kernelspec": {
   "display_name": "Python 3 (ipykernel)",
   "language": "python",
   "name": "python3"
  },
  "language_info": {
   "codemirror_mode": {
    "name": "ipython",
    "version": 3
   },
   "file_extension": ".py",
   "mimetype": "text/x-python",
   "name": "python",
   "nbconvert_exporter": "python",
   "pygments_lexer": "ipython3",
   "version": "3.9.17"
  }
 },
 "nbformat": 4,
 "nbformat_minor": 5
}
