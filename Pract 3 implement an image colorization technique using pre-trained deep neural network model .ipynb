{
 "cells": [
  {
   "cell_type": "code",
   "execution_count": 2,
   "id": "73ec6fa0",
   "metadata": {},
   "outputs": [],
   "source": [
    "import cv2 as cv2\n",
    "import numpy as np\n",
    "import os"
   ]
  },
  {
   "cell_type": "code",
   "execution_count": 3,
   "id": "bd19eed9",
   "metadata": {},
   "outputs": [
    {
     "name": "stdout",
     "output_type": "stream",
     "text": [
      "C:\\Users\\Darshan\\Computer Vision\\Model\n"
     ]
    }
   ],
   "source": [
    "# === Resolve paths relative to this script ===\n",
    "base_dir = os.getcwd()\n",
    "model_dir = os.path.join(base_dir, 'Model')\n",
    "print(model_dir)"
   ]
  },
  {
   "cell_type": "code",
   "execution_count": 4,
   "id": "6048d42d",
   "metadata": {},
   "outputs": [],
   "source": [
    "prototxt = os.path.join(model_dir, 'colorization_deploy_v2.prototxt')\n",
    "model = os.path.join(model_dir, 'colorization_release_v2.caffemodel')\n",
    "pts_npy = os.path.join(model_dir, 'pts_in_hull.npy')"
   ]
  },
  {
   "cell_type": "code",
   "execution_count": 5,
   "id": "b149d5ba",
   "metadata": {},
   "outputs": [],
   "source": [
    "net = cv2.dnn.readNetFromCaffe(prototxt, model)\n",
    "pts = np.load(pts_npy)"
   ]
  },
  {
   "cell_type": "code",
   "execution_count": 6,
   "id": "b4ee4f3f",
   "metadata": {},
   "outputs": [],
   "source": [
    "# Add cluster centers as 1x1 convolution kernel to model\n",
    "class8_ab = net.getLayerId('class8_ab')\n",
    "conv8_313_rh = net.getLayerId('conv8_313_rh')\n",
    "net.getLayer(class8_ab).blobs = [pts.transpose().reshape(2, 313, 1, 1)]\n",
    "net.getLayer(conv8_313_rh).blobs = [np.full([1, 313], 2.606, dtype='float32')]"
   ]
  },
  {
   "cell_type": "code",
   "execution_count": 7,
   "id": "ed160f7b",
   "metadata": {},
   "outputs": [],
   "source": [
    "# === Load and Display Grayscale Image ===\n",
    "image_path = \"C:\\\\Users\\\\Darshan\\\\Downloads\\\\Computer Vision\\\\Monster1.jpg\"\n",
    "img = cv2.imread(image_path)"
   ]
  },
  {
   "cell_type": "code",
   "execution_count": 8,
   "id": "866218d9",
   "metadata": {},
   "outputs": [],
   "source": [
    "if img is None:\n",
    "    print(\"❌ Failed to load image.\")\n",
    "    exit()"
   ]
  },
  {
   "cell_type": "code",
   "execution_count": 9,
   "id": "6c46333e",
   "metadata": {},
   "outputs": [],
   "source": [
    "cv2.imshow(\"Original Image\", img)"
   ]
  },
  {
   "cell_type": "code",
   "execution_count": 10,
   "id": "d16ecc65",
   "metadata": {},
   "outputs": [],
   "source": [
    "# Convert to Lab and extract L channel\n",
    "img_lab = cv2.cvtColor(img, cv2.COLOR_BGR2Lab)\n",
    "img_l = img_lab[:, :, 0]"
   ]
  },
  {
   "cell_type": "code",
   "execution_count": 11,
   "id": "9cce2382",
   "metadata": {},
   "outputs": [],
   "source": [
    "# Resize image to network input size\n",
    "img_rgb = cv2.cvtColor(img, cv2.COLOR_BGR2RGB)\n",
    "img_resized = cv2.resize(img_rgb, (224, 224))\n",
    "img_lab_rs = cv2.cvtColor(img_resized, cv2.COLOR_RGB2Lab)\n",
    "l_rs = img_lab_rs[:, :, 0]\n",
    "l_rs -= 50  # Center the L channel to zero mean"
   ]
  },
  {
   "cell_type": "code",
   "execution_count": 12,
   "id": "df35ed7b",
   "metadata": {},
   "outputs": [],
   "source": [
    "# Prepare input blob and run forward pass\n",
    "blob = cv2.dnn.blobFromImage(l_rs, scalefactor=1.0, size=(224, 224), mean=(50,))\n",
    "net.setInput(blob)\n",
    "ab_dec = net.forward()[0, :, :, :].transpose((1, 2, 0))"
   ]
  },
  {
   "cell_type": "code",
   "execution_count": 13,
   "id": "5434b73e",
   "metadata": {},
   "outputs": [],
   "source": [
    "# Resize the ab output to original image size\n",
    "ab_dec_us = cv2.resize(ab_dec, (img.shape[1], img.shape[0]))"
   ]
  },
  {
   "cell_type": "code",
   "execution_count": 14,
   "id": "ad9c1bcb",
   "metadata": {},
   "outputs": [
    {
     "name": "stderr",
     "output_type": "stream",
     "text": [
      "C:\\Users\\Darshan\\AppData\\Local\\Temp\\ipykernel_4332\\656122446.py:3: RuntimeWarning: invalid value encountered in cast\n",
      "  bgr_out = cv2.cvtColor(lab_out.astype(np.uint8), cv2.COLOR_Lab2BGR)\n"
     ]
    }
   ],
   "source": [
    "# Combine with original L channel\n",
    "lab_out = np.concatenate((img_l[:, :, np.newaxis], ab_dec_us), axis=2)\n",
    "bgr_out = cv2.cvtColor(lab_out.astype(np.uint8), cv2.COLOR_Lab2BGR)"
   ]
  },
  {
   "cell_type": "code",
   "execution_count": 15,
   "id": "3b13bb62",
   "metadata": {},
   "outputs": [],
   "source": [
    "# === Show Final Colorized Image ===\n",
    "cv2.imshow(\"Colorized Image\", bgr_out)\n",
    "cv2.waitKey(0)\n",
    "cv2.destroyAllWindows()"
   ]
  },
  {
   "cell_type": "code",
   "execution_count": null,
   "id": "530e3475",
   "metadata": {},
   "outputs": [],
   "source": []
  }
 ],
 "metadata": {
  "kernelspec": {
   "display_name": "Python 3 (ipykernel)",
   "language": "python",
   "name": "python3"
  },
  "language_info": {
   "codemirror_mode": {
    "name": "ipython",
    "version": 3
   },
   "file_extension": ".py",
   "mimetype": "text/x-python",
   "name": "python",
   "nbconvert_exporter": "python",
   "pygments_lexer": "ipython3",
   "version": "3.9.17"
  }
 },
 "nbformat": 4,
 "nbformat_minor": 5
}
