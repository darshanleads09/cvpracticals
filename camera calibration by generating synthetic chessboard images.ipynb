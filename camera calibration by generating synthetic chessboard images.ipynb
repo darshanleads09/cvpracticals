{
 "cells": [
  {
   "cell_type": "code",
   "execution_count": 1,
   "id": "6cacea46",
   "metadata": {},
   "outputs": [],
   "source": [
    "import numpy as np\n",
    "import cv2\n",
    "import os\n",
    "import glob"
   ]
  },
  {
   "cell_type": "code",
   "execution_count": 2,
   "id": "8f0ab110",
   "metadata": {},
   "outputs": [],
   "source": [
    "# Parameters\n",
    "board_size = (8, 6)\n",
    "square_size = 50\n",
    "num_images = 15\n",
    "output_dir = \".\\\\checkboard\""
   ]
  },
  {
   "cell_type": "code",
   "execution_count": 3,
   "id": "c0f19aa0",
   "metadata": {},
   "outputs": [],
   "source": [
    "squares_x = board_size[0]+1\n",
    "squares_y = board_size[1] + 1"
   ]
  },
  {
   "cell_type": "code",
   "execution_count": 4,
   "id": "48680aac",
   "metadata": {},
   "outputs": [],
   "source": [
    "# Create directory for images\n",
    "os.makedirs(output_dir, exist_ok=True)"
   ]
  },
  {
   "cell_type": "code",
   "execution_count": 5,
   "id": "7dc21868",
   "metadata": {},
   "outputs": [],
   "source": [
    "# STEP 1: Generate perfect chessboard images\n",
    "for i in range(num_images):\n",
    "    img = np.ones((squares_y * square_size, squares_x * square_size), np.uint8) * 255\n",
    "    for y in range(squares_y):\n",
    "        for x in range(squares_x):\n",
    "            if (x + y) % 2 == 0:\n",
    "                cv2.rectangle(\n",
    "                    img,\n",
    "                    (x * square_size, y * square_size),\n",
    "                    ((x + 1) * square_size, (y + 1) * square_size),\n",
    "                    0,\n",
    "                    -1\n",
    "                )\n",
    "    filename = os.path.join(output_dir, f\"calib_{i:02d}.png\")\n",
    "    img_blurred = cv2.GaussianBlur(img, (5, 5), 0)\n",
    "    cv2.imwrite(filename, img_blurred)"
   ]
  },
  {
   "cell_type": "code",
   "execution_count": 6,
   "id": "bcae6241",
   "metadata": {},
   "outputs": [
    {
     "name": "stdout",
     "output_type": "stream",
     "text": [
      " Generated 15 chessboard images in '.\\checkboard'.\n"
     ]
    }
   ],
   "source": [
    "print(f\" Generated {num_images} chessboard images in '{output_dir}'.\")"
   ]
  },
  {
   "cell_type": "code",
   "execution_count": 7,
   "id": "37ec0155",
   "metadata": {},
   "outputs": [],
   "source": [
    "# STEP 2: Prepare object points\n",
    "objp = np.zeros((board_size[0] * board_size[1], 3), np.float32)\n",
    "objp[:, :2] = np.indices(board_size).T.reshape(-1, 2) * square_size\n",
    "\n",
    "objpoints = []\n",
    "imgpoints = []"
   ]
  },
  {
   "cell_type": "code",
   "execution_count": 8,
   "id": "0988e269",
   "metadata": {},
   "outputs": [],
   "source": [
    "# Termination criteria for corner refinement\n",
    "criteria = (cv2.TERM_CRITERIA_EPS + cv2.TERM_CRITERIA_MAX_ITER, 30, 0.001)"
   ]
  },
  {
   "cell_type": "code",
   "execution_count": 9,
   "id": "2fa457ed",
   "metadata": {},
   "outputs": [],
   "source": [
    "# STEP 3: Detect corners\n",
    "images = glob.glob(os.path.join(output_dir, \"*.png\"))\n",
    "collage_images = []"
   ]
  },
  {
   "cell_type": "code",
   "execution_count": 10,
   "id": "d68368a4",
   "metadata": {},
   "outputs": [],
   "source": [
    "for fname in images:\n",
    "    img = cv2.imread(fname)\n",
    "    gray = cv2.cvtColor(img, cv2.COLOR_BGR2GRAY)\n",
    "\n",
    "    ret, corners = cv2.findChessboardCorners(gray, board_size, None)\n",
    "\n",
    "    if ret:\n",
    "        objpoints.append(objp)\n",
    "        corners2 = cv2.cornerSubPix(gray, corners, (11, 11), (-1, -1), criteria)\n",
    "        imgpoints.append(corners2)\n",
    "\n",
    "        img_drawn = cv2.drawChessboardCorners(img.copy(), board_size, corners2, ret)\n",
    "        collage_images.append(img_drawn)"
   ]
  },
  {
   "cell_type": "code",
   "execution_count": 11,
   "id": "bd712d60",
   "metadata": {},
   "outputs": [],
   "source": [
    "# === Build collage from all images ===\n",
    "if not collage_images:\n",
    "    raise ValueError(\"❌ No corners were detected. Calibration failed.\")"
   ]
  },
  {
   "cell_type": "code",
   "execution_count": 12,
   "id": "c6eef97e",
   "metadata": {},
   "outputs": [],
   "source": [
    "# Resize all images to same shape (optional: reduce size for fitting)\n",
    "collage_images = [cv2.resize(img, (400, 300)) for img in collage_images]"
   ]
  },
  {
   "cell_type": "code",
   "execution_count": 13,
   "id": "0f97d100",
   "metadata": {},
   "outputs": [],
   "source": [
    "# Arrange images in a grid (e.g., 5 rows x 3 columns)\n",
    "cols = 5\n",
    "rows = (len(collage_images) + cols - 1) // cols"
   ]
  },
  {
   "cell_type": "code",
   "execution_count": 14,
   "id": "03c904b1",
   "metadata": {},
   "outputs": [],
   "source": [
    "# Fill missing slots with white images if needed\n",
    "white = np.ones_like(collage_images[0]) * 255\n",
    "while len(collage_images) < rows * cols:\n",
    "    collage_images.append(white.astype(np.uint8))"
   ]
  },
  {
   "cell_type": "code",
   "execution_count": 15,
   "id": "d323005f",
   "metadata": {},
   "outputs": [],
   "source": [
    "# Stack images\n",
    "rows_img = [np.hstack(collage_images[i * cols:(i + 1) * cols]) for i in range(rows)]\n",
    "collage = np.vstack(rows_img)"
   ]
  },
  {
   "cell_type": "code",
   "execution_count": 16,
   "id": "e4153e3f",
   "metadata": {},
   "outputs": [],
   "source": [
    "# Display final collage\n",
    "cv2.imshow(\"All Detected Chessboards\", collage)\n",
    "cv2.waitKey(0)\n",
    "cv2.destroyAllWindows()"
   ]
  },
  {
   "cell_type": "code",
   "execution_count": null,
   "id": "7623dc49",
   "metadata": {},
   "outputs": [],
   "source": []
  }
 ],
 "metadata": {
  "kernelspec": {
   "display_name": "Python 3 (ipykernel)",
   "language": "python",
   "name": "python3"
  },
  "language_info": {
   "codemirror_mode": {
    "name": "ipython",
    "version": 3
   },
   "file_extension": ".py",
   "mimetype": "text/x-python",
   "name": "python",
   "nbconvert_exporter": "python",
   "pygments_lexer": "ipython3",
   "version": "3.9.17"
  }
 },
 "nbformat": 4,
 "nbformat_minor": 5
}
