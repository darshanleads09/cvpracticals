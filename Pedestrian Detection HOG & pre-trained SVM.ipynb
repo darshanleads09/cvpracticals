{
 "cells": [
  {
   "cell_type": "code",
   "execution_count": 1,
   "id": "0a9fc5d0",
   "metadata": {},
   "outputs": [],
   "source": [
    "import cv2"
   ]
  },
  {
   "cell_type": "code",
   "execution_count": 2,
   "id": "d862a1ec",
   "metadata": {},
   "outputs": [],
   "source": [
    "# Load color image (don't convert to grayscale)\n",
    "image = cv2.imread(\"C:\\\\Users\\\\Darshan\\\\Downloads\\\\Computer Vision\\\\CrossWalkPedestrian.jpg\")\n",
    "image = cv2.resize(image, (640, 640))"
   ]
  },
  {
   "cell_type": "code",
   "execution_count": 3,
   "id": "e6d23c71",
   "metadata": {},
   "outputs": [],
   "source": [
    "# HOG + SVM\n",
    "hog = cv2.HOGDescriptor()\n",
    "hog.setSVMDetector(cv2.HOGDescriptor_getDefaultPeopleDetector())"
   ]
  },
  {
   "cell_type": "code",
   "execution_count": 4,
   "id": "6e05a228",
   "metadata": {},
   "outputs": [],
   "source": [
    "# Detect\n",
    "(rects, weights) = hog.detectMultiScale(\n",
    "    image,  # use color image\n",
    "    winStride=(4, 4),\n",
    "    padding=(8, 8),\n",
    "    scale=1.05\n",
    ")"
   ]
  },
  {
   "cell_type": "code",
   "execution_count": 5,
   "id": "1b24bd55",
   "metadata": {},
   "outputs": [],
   "source": [
    "for (x, y, w, h) in rects:\n",
    "  cv2.rectangle(image, (x, y), (x + w, y + h), (0, 255, 0),2)"
   ]
  },
  {
   "cell_type": "code",
   "execution_count": 6,
   "id": "a069edc3",
   "metadata": {},
   "outputs": [],
   "source": [
    "cv2.imshow(\"Final Image\",image)\n",
    "cv2.waitKey(0)\n",
    "cv2.destroyAllWindows()"
   ]
  },
  {
   "cell_type": "code",
   "execution_count": null,
   "id": "9b40f2c7",
   "metadata": {},
   "outputs": [],
   "source": []
  }
 ],
 "metadata": {
  "kernelspec": {
   "display_name": "Python 3 (ipykernel)",
   "language": "python",
   "name": "python3"
  },
  "language_info": {
   "codemirror_mode": {
    "name": "ipython",
    "version": 3
   },
   "file_extension": ".py",
   "mimetype": "text/x-python",
   "name": "python",
   "nbconvert_exporter": "python",
   "pygments_lexer": "ipython3",
   "version": "3.9.17"
  }
 },
 "nbformat": 4,
 "nbformat_minor": 5
}
