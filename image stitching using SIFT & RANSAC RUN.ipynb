{
 "cells": [
  {
   "cell_type": "code",
   "execution_count": 3,
   "id": "ad3d62c8",
   "metadata": {},
   "outputs": [],
   "source": [
    "import cv2\n",
    "import numpy as np\n",
    "\n",
    "# Load your saved images\n",
    "image_1 = cv2.imread('C:\\\\Users\\\\Darshan\\\\Downloads\\\\Computer Vision\\\\box.png', cv2.IMREAD_GRAYSCALE)\n",
    "image_2 = cv2.imread('C:\\\\Users\\\\Darshan\\\\Downloads\\\\Computer Vision\\\\box_in_scene.png', cv2.IMREAD_GRAYSCALE)\n",
    "\n",
    "# Resize second image to match the size of first\n",
    "image_2 = cv2.resize(image_2, (image_1.shape[1], image_1.shape[0]))\n",
    "\n",
    "# SIFT detector\n",
    "sift = cv2.SIFT_create()\n",
    "keypoints_1, descriptors_1 = sift.detectAndCompute(image_1, None)\n",
    "keypoints_2, descriptors_2 = sift.detectAndCompute(image_2, None)\n",
    "\n",
    "# FLANN matcher\n",
    "index_params = dict(algorithm=1, trees=5)\n",
    "search_params = dict(checks=50)\n",
    "flann = cv2.FlannBasedMatcher(index_params, search_params)\n",
    "matches = flann.knnMatch(descriptors_1, descriptors_2, k=2)\n",
    "\n",
    "# Lowe's ratio test\n",
    "good_matches = []\n",
    "for m, n in matches:\n",
    "    if m.distance < 0.75 * n.distance:\n",
    "        good_matches.append(m)\n",
    "\n",
    "# Homography and Warping\n",
    "if len(good_matches) > 10:\n",
    "    src_pts = np.float32([keypoints_1[m.queryIdx].pt for m in good_matches]).reshape(-1, 1, 2)\n",
    "    dst_pts = np.float32([keypoints_2[m.trainIdx].pt for m in good_matches]).reshape(-1, 1, 2)\n",
    "    \n",
    "    M, mask = cv2.findHomography(src_pts, dst_pts, cv2.RANSAC, 5.0)\n",
    "    \n",
    "    h, w = image_1.shape\n",
    "    aligned_image = cv2.warpPerspective(image_2, M, (w, h))\n",
    "\n",
    "    # Display images using OpenCV\n",
    "    cv2.imshow('Image 1 (Reference)', image_1)\n",
    "    cv2.imshow('Image 2 (Scene)', image_2)\n",
    "    cv2.imshow('Aligned Image (Stitched)', aligned_image)\n",
    "\n",
    "    cv2.waitKey(0)\n",
    "    cv2.destroyAllWindows()\n",
    "else:\n",
    "    print(\"Not enough matches found to compute homography.\")"
   ]
  },
  {
   "cell_type": "code",
   "execution_count": null,
   "id": "966b501d",
   "metadata": {},
   "outputs": [],
   "source": []
  }
 ],
 "metadata": {
  "kernelspec": {
   "display_name": "Python 3 (ipykernel)",
   "language": "python",
   "name": "python3"
  },
  "language_info": {
   "codemirror_mode": {
    "name": "ipython",
    "version": 3
   },
   "file_extension": ".py",
   "mimetype": "text/x-python",
   "name": "python",
   "nbconvert_exporter": "python",
   "pygments_lexer": "ipython3",
   "version": "3.9.17"
  }
 },
 "nbformat": 4,
 "nbformat_minor": 5
}
