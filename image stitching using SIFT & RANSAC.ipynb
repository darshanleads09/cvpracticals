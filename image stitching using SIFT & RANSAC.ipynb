{
 "cells": [
  {
   "cell_type": "code",
   "execution_count": null,
   "id": "830f7d84",
   "metadata": {},
   "outputs": [],
   "source": [
    "import cv2\n",
    "import numpy as np"
   ]
  },
  {
   "cell_type": "code",
   "execution_count": null,
   "id": "d66eb666",
   "metadata": {},
   "outputs": [],
   "source": [
    "image_1 = cv2.imread(\"C:\\\\Users\\\\Darshan\\\\Downloads\\\\Computer Vision\\\\box.png\", cv2.IMREAD_GRAYSCALE)\n",
    "image_2 = cv2.imread(\"C:\\\\Users\\\\Darshan\\\\Downloads\\\\Computer Vision\\\\box_in_scene.png\", cv2.IMREAD_GRAYSCALE)"
   ]
  },
  {
   "cell_type": "code",
   "execution_count": null,
   "id": "432d4323",
   "metadata": {},
   "outputs": [],
   "source": [
    "# Resize image 2 with respect to image 1\n",
    "image_2 = cv2.resize(image_2, (image_1.shape[1], image_1.shape[0]))"
   ]
  },
  {
   "cell_type": "code",
   "execution_count": null,
   "id": "b1ab5d5f",
   "metadata": {},
   "outputs": [],
   "source": [
    "# Use SIFT to detect features\n",
    "sift = cv2.SIFT_create()\n",
    "keypoints_1, descriptors_1 = sift.detectAndCompute(image_1, None)\n",
    "keypoints_2, descriptors_2 = sift.detectAndCompute(image_2, None)"
   ]
  },
  {
   "cell_type": "code",
   "execution_count": null,
   "id": "d2cac004",
   "metadata": {},
   "outputs": [],
   "source": [
    "# Draw the keypoints on the first image\n",
    "image_1_keypoints = cv2.drawKeypoints(image_1, keypoints_1, None, color=(0, 255, 0), flags=cv2.DRAW_MATCHES_FLAGS_DRAW_RICH_KEYPOINTS)\n",
    "# cv2_imshow(image_1_keypoints)"
   ]
  },
  {
   "cell_type": "code",
   "execution_count": null,
   "id": "b6a8544e",
   "metadata": {},
   "outputs": [],
   "source": [
    "# Use FLANN for feature matching\n",
    "index_params = dict(algorithm=0, trees=5)\n",
    "search_params = dict(checks=100)\n",
    "flann = cv2.FlannBasedMatcher(index_params, search_params)\n",
    "matches = flann.knnMatch(descriptors_1, descriptors_2, k=2)"
   ]
  },
  {
   "cell_type": "code",
   "execution_count": null,
   "id": "f30c17e0",
   "metadata": {},
   "outputs": [],
   "source": [
    "# Use Lowe's Ratio to find good_matches\n",
    "good_matches = []\n",
    "for best, second_best in matches:\n",
    "  if(best.distance < 0.75 * second_best.distance):\n",
    "    good_matches.append(best)"
   ]
  },
  {
   "cell_type": "code",
   "execution_count": null,
   "id": "a8eaa206",
   "metadata": {},
   "outputs": [],
   "source": [
    "if(len(good_matches) > 10):\n",
    "  src_pts = np.float32([keypoints_1[best.queryIdx].pt for best in good_matches]).reshape(-1, 1, 2)\n",
    "  dst_pts = np.float32([keypoints_2[best.trainIdx].pt for best in good_matches]).reshape(-1, 1, 2)\n",
    "  M, m = cv2.findHomography(src_pts, dst_pts, cv2.RANSAC, 5.0)\n",
    "  h, w = image_1.shape\n",
    "  aligned_image = cv2.warpPerspective(image_2, M, (w, h))\n",
    "  cv2.imshow(\"Aligned Image\",aligned_image)\n",
    "  cv2.waitKey(0)\n",
    "  cv2.destroyAllWindows()\n",
    "else:\n",
    "  print(\"Not enough matches\")"
   ]
  },
  {
   "cell_type": "code",
   "execution_count": null,
   "id": "edd8ec33",
   "metadata": {},
   "outputs": [],
   "source": []
  }
 ],
 "metadata": {
  "kernelspec": {
   "display_name": "Python 3 (ipykernel)",
   "language": "python",
   "name": "python3"
  },
  "language_info": {
   "codemirror_mode": {
    "name": "ipython",
    "version": 3
   },
   "file_extension": ".py",
   "mimetype": "text/x-python",
   "name": "python",
   "nbconvert_exporter": "python",
   "pygments_lexer": "ipython3",
   "version": "3.9.17"
  }
 },
 "nbformat": 4,
 "nbformat_minor": 5
}
