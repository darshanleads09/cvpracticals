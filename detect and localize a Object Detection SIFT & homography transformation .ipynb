{
 "cells": [
  {
   "cell_type": "code",
   "execution_count": 1,
   "id": "15b0ac9c",
   "metadata": {},
   "outputs": [],
   "source": [
    "import numpy as np\n",
    "import cv2"
   ]
  },
  {
   "cell_type": "code",
   "execution_count": 2,
   "id": "ac8b946c",
   "metadata": {},
   "outputs": [],
   "source": [
    "image_object = cv2.imread(\"C:\\\\Users\\\\Darshan\\\\Downloads\\\\Computer Vision\\\\Logo.jpg\", cv2.IMREAD_GRAYSCALE)\n",
    "image_scene = cv2.imread(\"C:\\\\Users\\\\Darshan\\\\Downloads\\\\Computer Vision\\\\Bottle.jpg\", cv2.IMREAD_GRAYSCALE)"
   ]
  },
  {
   "cell_type": "code",
   "execution_count": 3,
   "id": "02ea006c",
   "metadata": {},
   "outputs": [],
   "source": [
    "# Use SIFT for feature detection\n",
    "sift = cv2.SIFT_create()\n",
    "kp1, des1 = sift.detectAndCompute(image_object, None)\n",
    "kp2, des2 = sift.detectAndCompute(image_scene, None)"
   ]
  },
  {
   "cell_type": "code",
   "execution_count": 4,
   "id": "022e3373",
   "metadata": {},
   "outputs": [],
   "source": [
    "# Use FLANN for feature matching\n",
    "index_params = dict(algorithm=1, trees=5)\n",
    "search_params = dict(checks=50)\n",
    "flann = cv2.FlannBasedMatcher(index_params, search_params)\n",
    "matches = flann.knnMatch(des1, des2, k=2)"
   ]
  },
  {
   "cell_type": "code",
   "execution_count": 5,
   "id": "18c4d937",
   "metadata": {},
   "outputs": [],
   "source": [
    "# Use Lowe's Ratio\n",
    "good_matches = []\n",
    "for m, n in matches:\n",
    "  if m.distance < 0.75 * n.distance:\n",
    "    good_matches.append(m)"
   ]
  },
  {
   "cell_type": "code",
   "execution_count": 9,
   "id": "0b063efa",
   "metadata": {},
   "outputs": [],
   "source": [
    "# If mathces are good\n",
    "if(len(good_matches) > 10):\n",
    "  src_pts = np.float32([kp1[m.queryIdx].pt for m in good_matches]).reshape(-1, 1, 2)\n",
    "  dst_pts = np.float32([kp2[m.trainIdx].pt for m in good_matches]).reshape(-1, 1, 2)\n",
    "\n",
    "  # Find homography\n",
    "  M, m = cv2.findHomography(src_pts, dst_pts, cv2.RANSAC, 5.0)\n",
    "\n",
    "  h, w = image_object.shape\n",
    "  pts = np.float32([[0,0], [0,h-1], [w-1,h-1], [w-1,0]]).reshape(-1, 1, 2)\n",
    "  dst = cv2.perspectiveTransform(pts, M)\n",
    "\n",
    "  # Draw polylines\n",
    "  image_result = cv2.polylines(cv2.cvtColor(image_scene, cv2.COLOR_GRAY2BGR), [np.int32(dst)], True, (0, 255, 0), 3, cv2.LINE_AA)\n",
    "else:\n",
    "  print(\"Not enough matches\")"
   ]
  },
  {
   "cell_type": "code",
   "execution_count": 10,
   "id": "a87f4853",
   "metadata": {},
   "outputs": [],
   "source": [
    "# Draw keypoint matches (optional)\n",
    "draw_params = dict(matchColor=(0, 255, 0), singlePointColor = None, flags=2)\n",
    "image_match = cv2.drawMatches(image_object, kp1, image_scene, kp2, good_matches, None, **draw_params)"
   ]
  },
  {
   "cell_type": "code",
   "execution_count": 11,
   "id": "177ae4c7",
   "metadata": {},
   "outputs": [],
   "source": [
    "# Show images\n",
    "cv2.imshow(\"CocaColaImage\",image_match)\n",
    "cv2.waitKey(0)\n",
    "cv2.destroyAllWindows()"
   ]
  },
  {
   "cell_type": "code",
   "execution_count": null,
   "id": "ff18f59c",
   "metadata": {},
   "outputs": [],
   "source": []
  }
 ],
 "metadata": {
  "kernelspec": {
   "display_name": "Python 3 (ipykernel)",
   "language": "python",
   "name": "python3"
  },
  "language_info": {
   "codemirror_mode": {
    "name": "ipython",
    "version": 3
   },
   "file_extension": ".py",
   "mimetype": "text/x-python",
   "name": "python",
   "nbconvert_exporter": "python",
   "pygments_lexer": "ipython3",
   "version": "3.9.17"
  }
 },
 "nbformat": 4,
 "nbformat_minor": 5
}
