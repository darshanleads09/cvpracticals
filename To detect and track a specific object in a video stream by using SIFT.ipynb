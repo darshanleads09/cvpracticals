{
 "cells": [
  {
   "cell_type": "code",
   "execution_count": 1,
   "id": "9978acd3",
   "metadata": {},
   "outputs": [],
   "source": [
    "import cv2, numpy as np, os"
   ]
  },
  {
   "cell_type": "code",
   "execution_count": 2,
   "id": "3aef711f",
   "metadata": {},
   "outputs": [],
   "source": [
    "# Video & reference\n",
    "video = \"C:\\\\Users\\\\Darshan\\\\Downloads\\\\Computer Vision\\\\mpeg4.mp4\"\n",
    "ref = cv2.imread(\"C:\\\\Users\\\\Darshan\\\\Downloads\\\\Computer Vision\\\\VideoShot.jpg\", 0)"
   ]
  },
  {
   "cell_type": "code",
   "execution_count": 3,
   "id": "325f3295",
   "metadata": {},
   "outputs": [],
   "source": [
    "# SIFT setup\n",
    "sift = cv2.SIFT_create()\n",
    "kp1, des1 = sift.detectAndCompute(ref, None)\n",
    "match = cv2.BFMatcher()"
   ]
  },
  {
   "cell_type": "code",
   "execution_count": 4,
   "id": "ee0f8403",
   "metadata": {},
   "outputs": [
    {
     "name": "stdout",
     "output_type": "stream",
     "text": [
      "Scanning...\n"
     ]
    }
   ],
   "source": [
    "cap = cv2.VideoCapture(video)\n",
    "print(\"Scanning...\")"
   ]
  },
  {
   "cell_type": "code",
   "execution_count": 5,
   "id": "8b3bc005",
   "metadata": {},
   "outputs": [
    {
     "name": "stdout",
     "output_type": "stream",
     "text": [
      " Frame 6: 61.1% match\n",
      " Frame 13: 61.5% match\n",
      " Frame 15: 54.5% match\n",
      " Frame 16: 70.6% match\n",
      " Frame 21: 54.5% match\n",
      " Frame 22: 63.6% match\n",
      " Frame 23: 66.7% match\n",
      " Frame 24: 71.4% match\n",
      " Frame 25: 58.3% match\n",
      " Frame 26: 72.0% match\n",
      " Frame 30: 55.6% match\n",
      "\n",
      " Done. Detected in 11 frame(s).\n"
     ]
    }
   ],
   "source": [
    "frame, hits = 0, 0\n",
    "while cap.isOpened():\n",
    "    ret, f = cap.read()\n",
    "    if not ret:break\n",
    "    frame += 1\n",
    "\n",
    "    gray = cv2.cvtColor(f, cv2.COLOR_BGR2GRAY)\n",
    "    kp2, des2 = sift.detectAndCompute(gray, None)\n",
    "    if des2 is None: continue\n",
    "\n",
    "    good = [m for m, n in match.knnMatch(des1, des2, 2) if m.distance < 0.75 * n.distance]\n",
    "\n",
    "    if len(good) >= 10:\n",
    "        src = np.float32([kp1[m.queryIdx].pt for m in good]).reshape(-1, 1, 2)\n",
    "        dst = np.float32([kp2[m.trainIdx].pt for m in good]).reshape(-1, 1, 2)\n",
    "        H, mask = cv2.findHomography(src, dst, cv2.RANSAC, 5.0)\n",
    "\n",
    "        if mask is not None:\n",
    "            inl = mask.ravel().tolist()\n",
    "            percent = sum(inl) / len(good) * 100\n",
    "\n",
    "            if percent > 50:\n",
    "                hits += 1\n",
    "                print(f\" Frame {frame}: {percent:.1f}% match\")\n",
    "                img = cv2.drawMatches(ref, kp1, gray, kp2, good, None, matchesMask=inl, flags=2)\n",
    "                cv2.imshow(\"Image\",img)\n",
    "                key = cv2.waitKey(0)  # Wait for any key to go to next frame\n",
    "                if key == 27:  # Press Esc to break early\n",
    "                    break\n",
    "\n",
    "cap.release()\n",
    "cv2.destroyAllWindows()\n",
    "print(f\"\\n Done. Detected in {hits} frame(s).\")"
   ]
  },
  {
   "cell_type": "code",
   "execution_count": null,
   "id": "6ce519f8",
   "metadata": {},
   "outputs": [],
   "source": []
  }
 ],
 "metadata": {
  "kernelspec": {
   "display_name": "Python 3 (ipykernel)",
   "language": "python",
   "name": "python3"
  },
  "language_info": {
   "codemirror_mode": {
    "name": "ipython",
    "version": 3
   },
   "file_extension": ".py",
   "mimetype": "text/x-python",
   "name": "python",
   "nbconvert_exporter": "python",
   "pygments_lexer": "ipython3",
   "version": "3.9.17"
  }
 },
 "nbformat": 4,
 "nbformat_minor": 5
}
