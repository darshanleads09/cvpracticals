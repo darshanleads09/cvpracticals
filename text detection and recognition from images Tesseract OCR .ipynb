{
 "cells": [
  {
   "cell_type": "code",
   "execution_count": 1,
   "id": "8b4b17d6",
   "metadata": {},
   "outputs": [],
   "source": [
    "import cv2\n",
    "import pytesseract\n",
    "import numpy as np\n",
    "import os"
   ]
  },
  {
   "cell_type": "code",
   "execution_count": 2,
   "id": "06fa9595",
   "metadata": {},
   "outputs": [],
   "source": [
    "# 🛠 Configure path to Tesseract\n",
    "pytesseract.pytesseract.tesseract_cmd = r\"C:\\Program Files\\Tesseract-OCR\\tesseract.exe\""
   ]
  },
  {
   "cell_type": "code",
   "execution_count": 3,
   "id": "af8577d4",
   "metadata": {},
   "outputs": [],
   "source": [
    "def detect_and_recognize_text(image_path):\n",
    "    if not os.path.exists(image_path):\n",
    "        print(\"❌ Image file not found!\")\n",
    "        return"
   ]
  },
  {
   "cell_type": "code",
   "execution_count": 4,
   "id": "01b41745",
   "metadata": {},
   "outputs": [],
   "source": [
    "# Load image\n",
    "image_path = r\"C:\\Users\\Darshan\\Downloads\\Computer Vision\\HandWritten.png\";\n",
    "image = cv2.imread(image_path)\n",
    "orig = image.copy()"
   ]
  },
  {
   "cell_type": "code",
   "execution_count": 5,
   "id": "2f309f18",
   "metadata": {},
   "outputs": [],
   "source": [
    "# Convert to grayscale\n",
    "gray = cv2.cvtColor(image, cv2.COLOR_BGR2GRAY)"
   ]
  },
  {
   "cell_type": "code",
   "execution_count": 6,
   "id": "a9c59e61",
   "metadata": {},
   "outputs": [],
   "source": [
    "# Adaptive thresholding for better results on varied backgrounds\n",
    "thresh = cv2.adaptiveThreshold(\n",
    "gray, 255, cv2.ADAPTIVE_THRESH_GAUSSIAN_C,\n",
    "cv2.THRESH_BINARY_INV, 11, 2)\n",
    "cv2.imshow(\"Threshold\", thresh)"
   ]
  },
  {
   "cell_type": "code",
   "execution_count": 7,
   "id": "b47f1e37",
   "metadata": {},
   "outputs": [],
   "source": [
    "# Dilation to merge text areas\n",
    "kernel = cv2.getStructuringElement(cv2.MORPH_RECT, (3, 3))\n",
    "dilated = cv2.dilate(thresh, kernel, iterations=1)"
   ]
  },
  {
   "cell_type": "code",
   "execution_count": 8,
   "id": "84481fe4",
   "metadata": {},
   "outputs": [],
   "source": [
    "# Find contours\n",
    "contours, _ = cv2.findContours(dilated, cv2.RETR_EXTERNAL, cv2.CHAIN_APPROX_SIMPLE)"
   ]
  },
  {
   "cell_type": "code",
   "execution_count": 9,
   "id": "600ac131",
   "metadata": {},
   "outputs": [
    {
     "name": "stdout",
     "output_type": "stream",
     "text": [
      "🟩 Found region: x=66, y=71, w=1007, h=808\n"
     ]
    },
    {
     "data": {
      "text/plain": [
       "array([[[0, 0, 0],\n",
       "        [0, 0, 0],\n",
       "        [0, 0, 0],\n",
       "        ...,\n",
       "        [0, 0, 0],\n",
       "        [0, 0, 0],\n",
       "        [0, 0, 0]],\n",
       "\n",
       "       [[0, 0, 0],\n",
       "        [0, 0, 0],\n",
       "        [0, 0, 0],\n",
       "        ...,\n",
       "        [0, 0, 0],\n",
       "        [0, 0, 0],\n",
       "        [0, 0, 0]],\n",
       "\n",
       "       [[0, 0, 0],\n",
       "        [0, 0, 0],\n",
       "        [0, 0, 0],\n",
       "        ...,\n",
       "        [0, 0, 0],\n",
       "        [0, 0, 0],\n",
       "        [0, 0, 0]],\n",
       "\n",
       "       ...,\n",
       "\n",
       "       [[0, 0, 0],\n",
       "        [0, 0, 0],\n",
       "        [0, 0, 0],\n",
       "        ...,\n",
       "        [0, 0, 0],\n",
       "        [0, 0, 0],\n",
       "        [0, 0, 0]],\n",
       "\n",
       "       [[0, 0, 0],\n",
       "        [0, 0, 0],\n",
       "        [0, 0, 0],\n",
       "        ...,\n",
       "        [0, 0, 0],\n",
       "        [0, 0, 0],\n",
       "        [0, 0, 0]],\n",
       "\n",
       "       [[0, 0, 0],\n",
       "        [0, 0, 0],\n",
       "        [0, 0, 0],\n",
       "        ...,\n",
       "        [0, 0, 0],\n",
       "        [0, 0, 0],\n",
       "        [0, 0, 0]]], dtype=uint8)"
      ]
     },
     "execution_count": 9,
     "metadata": {},
     "output_type": "execute_result"
    }
   ],
   "source": [
    "# Detect text from contours\n",
    "for contour in contours:\n",
    "    x, y, w, h = cv2.boundingRect(contour)\n",
    "    # Filter out very small contours\n",
    "    if w < 10 or h < 10:\n",
    "        continue\n",
    "        \n",
    "    print(f\"🟩 Found region: x={x}, y={y}, w={w}, h={h}\")\n",
    "    \n",
    "# Draw rectangle\n",
    "cv2.rectangle(orig, (x, y), (x + w, y + h), (0, 255, 0), 2)"
   ]
  },
  {
   "cell_type": "code",
   "execution_count": 10,
   "id": "25bfb4b7",
   "metadata": {},
   "outputs": [],
   "source": [
    "roi = gray[y:y+h, x:x+w]"
   ]
  },
  {
   "cell_type": "code",
   "execution_count": 11,
   "id": "d6f4636f",
   "metadata": {},
   "outputs": [
    {
     "name": "stdout",
     "output_type": "stream",
     "text": [
      "📝 Detected Text: Yl fade\n",
      "\n",
      "At was 2\n",
      "\n",
      "house the 6\n",
      "\n",
      "wock!\n",
      "\n",
      "Bye\n",
      "\n",
      "the por parr\n",
      "\n",
      "when Jf dam. oot\n",
      "\n",
      "he\n",
      "\n",
      "fworking and.\n",
      "\n",
      "J think\n",
      "\n",
      "Pease let we Eros\n",
      "\n",
      "cas\n",
      "\n",
      "J cae\n",
      "\n",
      "oe\n",
      "\n",
      "ov\n",
      "\n",
      "ees as\n",
      "\n",
      "ay\n",
      "\n",
      "See\n",
      "\n",
      "Mane\n"
     ]
    }
   ],
   "source": [
    "# OCR on the region\n",
    "text = pytesseract.image_to_string(roi, config='--psm 11')\n",
    "cleaned = text.strip()\n",
    "if cleaned:\n",
    "    print(f\"📝 Detected Text: {cleaned}\")"
   ]
  },
  {
   "cell_type": "code",
   "execution_count": 12,
   "id": "4f1f6829",
   "metadata": {},
   "outputs": [
    {
     "name": "stdout",
     "output_type": "stream",
     "text": [
      "\n",
      "🔍 Full Image OCR:\n",
      "oa\n",
      "ee\n",
      "ee\n"
     ]
    }
   ],
   "source": [
    "# Extra: OCR on full image just to verify\n",
    "print(\"\\n🔍 Full Image OCR:\")\n",
    "print(pytesseract.image_to_string(thresh, config='--psm 6').strip())"
   ]
  },
  {
   "cell_type": "code",
   "execution_count": 13,
   "id": "9a27db16",
   "metadata": {},
   "outputs": [],
   "source": [
    "# Show final image with detections\n",
    "cv2.imshow(\"✅ Text Detection\", orig)\n",
    "cv2.waitKey(0)\n",
    "cv2.destroyAllWindows()"
   ]
  },
  {
   "cell_type": "code",
   "execution_count": 14,
   "id": "a54288c3",
   "metadata": {},
   "outputs": [],
   "source": [
    "# 🚀 Usage\n",
    "if __name__ == \"__main__\":\n",
    "    image_file =  r\"C:\\Users\\Darshan\\Downloads\\Computer Vision\\HandWritten.png\"\n",
    "    detect_and_recognize_text(image_file)"
   ]
  },
  {
   "cell_type": "code",
   "execution_count": null,
   "id": "27ae87ac",
   "metadata": {},
   "outputs": [],
   "source": []
  }
 ],
 "metadata": {
  "kernelspec": {
   "display_name": "Python 3 (ipykernel)",
   "language": "python",
   "name": "python3"
  },
  "language_info": {
   "codemirror_mode": {
    "name": "ipython",
    "version": 3
   },
   "file_extension": ".py",
   "mimetype": "text/x-python",
   "name": "python",
   "nbconvert_exporter": "python",
   "pygments_lexer": "ipython3",
   "version": "3.9.17"
  }
 },
 "nbformat": 4,
 "nbformat_minor": 5
}
