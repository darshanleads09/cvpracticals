{
 "cells": [
  {
   "cell_type": "code",
   "execution_count": 1,
   "id": "a5a0054e",
   "metadata": {},
   "outputs": [],
   "source": [
    "import cv2\n",
    "import numpy as np\n",
    "import os"
   ]
  },
  {
   "cell_type": "code",
   "execution_count": 3,
   "id": "8cba9275",
   "metadata": {},
   "outputs": [],
   "source": [
    "# Resolve paths relative to this script\n",
    "base_dir = os.getcwd()\n",
    "model_dir = os.path.join(base_dir, 'Model')"
   ]
  },
  {
   "cell_type": "code",
   "execution_count": null,
   "id": "13a33f9f",
   "metadata": {},
   "outputs": [],
   "source": [
    "prototxt = os.path.join(model_dir, 'colorization_deploy_v2.prototxt')\n",
    "model = os.path.join(model_dir, 'colorization_release_v2.caffemodel')\n",
    "pts_npy = os.path.join(model_dir, 'pts_in_hull.npy')"
   ]
  }
 ],
 "metadata": {
  "kernelspec": {
   "display_name": "Python 3 (ipykernel)",
   "language": "python",
   "name": "python3"
  },
  "language_info": {
   "codemirror_mode": {
    "name": "ipython",
    "version": 3
   },
   "file_extension": ".py",
   "mimetype": "text/x-python",
   "name": "python",
   "nbconvert_exporter": "python",
   "pygments_lexer": "ipython3",
   "version": "3.9.17"
  }
 },
 "nbformat": 4,
 "nbformat_minor": 5
}
